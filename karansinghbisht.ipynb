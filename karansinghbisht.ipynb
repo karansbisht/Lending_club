{
  "nbformat": 4,
  "nbformat_minor": 0,
  "metadata": {
    "colab": {
      "provenance": []
    },
    "kernelspec": {
      "name": "python3",
      "display_name": "Python 3"
    },
    "language_info": {
      "name": "python"
    }
  },
  "cells": [
    {
      "cell_type": "markdown",
      "source": [
        "# **Importing packages and data**\n",
        "\n",
        "---\n",
        "\n",
        "\n"
      ],
      "metadata": {
        "id": "1NJ3qCHceZt3"
      }
    },
    {
      "cell_type": "code",
      "execution_count": 2,
      "metadata": {
        "id": "4wdQ8bN1dUHf"
      },
      "outputs": [],
      "source": [
        "import pandas as pd\n",
        "import numpy as np\n",
        "import matplotlib.pyplot as plt\n",
        "import seaborn as sns\n",
        "import warnings\n",
        "warnings.filterwarnings(\"ignore\")"
      ]
    },
    {
      "cell_type": "code",
      "source": [
        "data = pd.read_csv('loan.csv')"
      ],
      "metadata": {
        "id": "jvxkGLV8d4mb"
      },
      "execution_count": 4,
      "outputs": []
    },
    {
      "cell_type": "markdown",
      "source": [
        "# Information of  loan.csv file into data and check data size and various coloumns\n",
        "\n",
        "---\n",
        "\n"
      ],
      "metadata": {
        "id": "Qoc8yi3ce7cD"
      }
    },
    {
      "cell_type": "code",
      "source": [
        "data.info()\n"
      ],
      "metadata": {
        "id": "jGJZlkL9d4o4",
        "colab": {
          "base_uri": "https://localhost:8080/"
        },
        "outputId": "de4a66cd-d116-4e59-c547-1b2090f9f24a"
      },
      "execution_count": 5,
      "outputs": [
        {
          "output_type": "stream",
          "name": "stdout",
          "text": [
            "<class 'pandas.core.frame.DataFrame'>\n",
            "RangeIndex: 39717 entries, 0 to 39716\n",
            "Columns: 111 entries, id to total_il_high_credit_limit\n",
            "dtypes: float64(74), int64(13), object(24)\n",
            "memory usage: 33.6+ MB\n"
          ]
        }
      ]
    },
    {
      "cell_type": "code",
      "source": [
        "data.shape"
      ],
      "metadata": {
        "id": "NXrviI_xd4rh",
        "colab": {
          "base_uri": "https://localhost:8080/"
        },
        "outputId": "862f269d-4074-4cf9-a17a-8776008507f8"
      },
      "execution_count": 6,
      "outputs": [
        {
          "output_type": "execute_result",
          "data": {
            "text/plain": [
              "(39717, 111)"
            ]
          },
          "metadata": {},
          "execution_count": 6
        }
      ]
    },
    {
      "cell_type": "code",
      "source": [
        "data.head()"
      ],
      "metadata": {
        "id": "4_XOfosPeVH8",
        "colab": {
          "base_uri": "https://localhost:8080/",
          "height": 386
        },
        "outputId": "f5a71dc7-035c-4825-abe9-3aa58ae8f842"
      },
      "execution_count": 7,
      "outputs": [
        {
          "output_type": "execute_result",
          "data": {
            "text/plain": [
              "        id  member_id  loan_amnt  funded_amnt  funded_amnt_inv        term  \\\n",
              "0  1077501    1296599       5000         5000           4975.0   36 months   \n",
              "1  1077430    1314167       2500         2500           2500.0   60 months   \n",
              "2  1077175    1313524       2400         2400           2400.0   36 months   \n",
              "3  1076863    1277178      10000        10000          10000.0   36 months   \n",
              "4  1075358    1311748       3000         3000           3000.0   60 months   \n",
              "\n",
              "  int_rate  installment grade sub_grade  ... num_tl_90g_dpd_24m  \\\n",
              "0   10.65%       162.87     B        B2  ...                NaN   \n",
              "1   15.27%        59.83     C        C4  ...                NaN   \n",
              "2   15.96%        84.33     C        C5  ...                NaN   \n",
              "3   13.49%       339.31     C        C1  ...                NaN   \n",
              "4   12.69%        67.79     B        B5  ...                NaN   \n",
              "\n",
              "  num_tl_op_past_12m pct_tl_nvr_dlq  percent_bc_gt_75 pub_rec_bankruptcies  \\\n",
              "0                NaN            NaN               NaN                  0.0   \n",
              "1                NaN            NaN               NaN                  0.0   \n",
              "2                NaN            NaN               NaN                  0.0   \n",
              "3                NaN            NaN               NaN                  0.0   \n",
              "4                NaN            NaN               NaN                  0.0   \n",
              "\n",
              "  tax_liens tot_hi_cred_lim total_bal_ex_mort total_bc_limit  \\\n",
              "0       0.0             NaN               NaN            NaN   \n",
              "1       0.0             NaN               NaN            NaN   \n",
              "2       0.0             NaN               NaN            NaN   \n",
              "3       0.0             NaN               NaN            NaN   \n",
              "4       0.0             NaN               NaN            NaN   \n",
              "\n",
              "  total_il_high_credit_limit  \n",
              "0                        NaN  \n",
              "1                        NaN  \n",
              "2                        NaN  \n",
              "3                        NaN  \n",
              "4                        NaN  \n",
              "\n",
              "[5 rows x 111 columns]"
            ],
            "text/html": [
              "\n",
              "  <div id=\"df-ff80b0db-18ea-4cbd-a7a3-66b7fb6c8308\">\n",
              "    <div class=\"colab-df-container\">\n",
              "      <div>\n",
              "<style scoped>\n",
              "    .dataframe tbody tr th:only-of-type {\n",
              "        vertical-align: middle;\n",
              "    }\n",
              "\n",
              "    .dataframe tbody tr th {\n",
              "        vertical-align: top;\n",
              "    }\n",
              "\n",
              "    .dataframe thead th {\n",
              "        text-align: right;\n",
              "    }\n",
              "</style>\n",
              "<table border=\"1\" class=\"dataframe\">\n",
              "  <thead>\n",
              "    <tr style=\"text-align: right;\">\n",
              "      <th></th>\n",
              "      <th>id</th>\n",
              "      <th>member_id</th>\n",
              "      <th>loan_amnt</th>\n",
              "      <th>funded_amnt</th>\n",
              "      <th>funded_amnt_inv</th>\n",
              "      <th>term</th>\n",
              "      <th>int_rate</th>\n",
              "      <th>installment</th>\n",
              "      <th>grade</th>\n",
              "      <th>sub_grade</th>\n",
              "      <th>...</th>\n",
              "      <th>num_tl_90g_dpd_24m</th>\n",
              "      <th>num_tl_op_past_12m</th>\n",
              "      <th>pct_tl_nvr_dlq</th>\n",
              "      <th>percent_bc_gt_75</th>\n",
              "      <th>pub_rec_bankruptcies</th>\n",
              "      <th>tax_liens</th>\n",
              "      <th>tot_hi_cred_lim</th>\n",
              "      <th>total_bal_ex_mort</th>\n",
              "      <th>total_bc_limit</th>\n",
              "      <th>total_il_high_credit_limit</th>\n",
              "    </tr>\n",
              "  </thead>\n",
              "  <tbody>\n",
              "    <tr>\n",
              "      <th>0</th>\n",
              "      <td>1077501</td>\n",
              "      <td>1296599</td>\n",
              "      <td>5000</td>\n",
              "      <td>5000</td>\n",
              "      <td>4975.0</td>\n",
              "      <td>36 months</td>\n",
              "      <td>10.65%</td>\n",
              "      <td>162.87</td>\n",
              "      <td>B</td>\n",
              "      <td>B2</td>\n",
              "      <td>...</td>\n",
              "      <td>NaN</td>\n",
              "      <td>NaN</td>\n",
              "      <td>NaN</td>\n",
              "      <td>NaN</td>\n",
              "      <td>0.0</td>\n",
              "      <td>0.0</td>\n",
              "      <td>NaN</td>\n",
              "      <td>NaN</td>\n",
              "      <td>NaN</td>\n",
              "      <td>NaN</td>\n",
              "    </tr>\n",
              "    <tr>\n",
              "      <th>1</th>\n",
              "      <td>1077430</td>\n",
              "      <td>1314167</td>\n",
              "      <td>2500</td>\n",
              "      <td>2500</td>\n",
              "      <td>2500.0</td>\n",
              "      <td>60 months</td>\n",
              "      <td>15.27%</td>\n",
              "      <td>59.83</td>\n",
              "      <td>C</td>\n",
              "      <td>C4</td>\n",
              "      <td>...</td>\n",
              "      <td>NaN</td>\n",
              "      <td>NaN</td>\n",
              "      <td>NaN</td>\n",
              "      <td>NaN</td>\n",
              "      <td>0.0</td>\n",
              "      <td>0.0</td>\n",
              "      <td>NaN</td>\n",
              "      <td>NaN</td>\n",
              "      <td>NaN</td>\n",
              "      <td>NaN</td>\n",
              "    </tr>\n",
              "    <tr>\n",
              "      <th>2</th>\n",
              "      <td>1077175</td>\n",
              "      <td>1313524</td>\n",
              "      <td>2400</td>\n",
              "      <td>2400</td>\n",
              "      <td>2400.0</td>\n",
              "      <td>36 months</td>\n",
              "      <td>15.96%</td>\n",
              "      <td>84.33</td>\n",
              "      <td>C</td>\n",
              "      <td>C5</td>\n",
              "      <td>...</td>\n",
              "      <td>NaN</td>\n",
              "      <td>NaN</td>\n",
              "      <td>NaN</td>\n",
              "      <td>NaN</td>\n",
              "      <td>0.0</td>\n",
              "      <td>0.0</td>\n",
              "      <td>NaN</td>\n",
              "      <td>NaN</td>\n",
              "      <td>NaN</td>\n",
              "      <td>NaN</td>\n",
              "    </tr>\n",
              "    <tr>\n",
              "      <th>3</th>\n",
              "      <td>1076863</td>\n",
              "      <td>1277178</td>\n",
              "      <td>10000</td>\n",
              "      <td>10000</td>\n",
              "      <td>10000.0</td>\n",
              "      <td>36 months</td>\n",
              "      <td>13.49%</td>\n",
              "      <td>339.31</td>\n",
              "      <td>C</td>\n",
              "      <td>C1</td>\n",
              "      <td>...</td>\n",
              "      <td>NaN</td>\n",
              "      <td>NaN</td>\n",
              "      <td>NaN</td>\n",
              "      <td>NaN</td>\n",
              "      <td>0.0</td>\n",
              "      <td>0.0</td>\n",
              "      <td>NaN</td>\n",
              "      <td>NaN</td>\n",
              "      <td>NaN</td>\n",
              "      <td>NaN</td>\n",
              "    </tr>\n",
              "    <tr>\n",
              "      <th>4</th>\n",
              "      <td>1075358</td>\n",
              "      <td>1311748</td>\n",
              "      <td>3000</td>\n",
              "      <td>3000</td>\n",
              "      <td>3000.0</td>\n",
              "      <td>60 months</td>\n",
              "      <td>12.69%</td>\n",
              "      <td>67.79</td>\n",
              "      <td>B</td>\n",
              "      <td>B5</td>\n",
              "      <td>...</td>\n",
              "      <td>NaN</td>\n",
              "      <td>NaN</td>\n",
              "      <td>NaN</td>\n",
              "      <td>NaN</td>\n",
              "      <td>0.0</td>\n",
              "      <td>0.0</td>\n",
              "      <td>NaN</td>\n",
              "      <td>NaN</td>\n",
              "      <td>NaN</td>\n",
              "      <td>NaN</td>\n",
              "    </tr>\n",
              "  </tbody>\n",
              "</table>\n",
              "<p>5 rows × 111 columns</p>\n",
              "</div>\n",
              "      <button class=\"colab-df-convert\" onclick=\"convertToInteractive('df-ff80b0db-18ea-4cbd-a7a3-66b7fb6c8308')\"\n",
              "              title=\"Convert this dataframe to an interactive table.\"\n",
              "              style=\"display:none;\">\n",
              "        \n",
              "  <svg xmlns=\"http://www.w3.org/2000/svg\" height=\"24px\"viewBox=\"0 0 24 24\"\n",
              "       width=\"24px\">\n",
              "    <path d=\"M0 0h24v24H0V0z\" fill=\"none\"/>\n",
              "    <path d=\"M18.56 5.44l.94 2.06.94-2.06 2.06-.94-2.06-.94-.94-2.06-.94 2.06-2.06.94zm-11 1L8.5 8.5l.94-2.06 2.06-.94-2.06-.94L8.5 2.5l-.94 2.06-2.06.94zm10 10l.94 2.06.94-2.06 2.06-.94-2.06-.94-.94-2.06-.94 2.06-2.06.94z\"/><path d=\"M17.41 7.96l-1.37-1.37c-.4-.4-.92-.59-1.43-.59-.52 0-1.04.2-1.43.59L10.3 9.45l-7.72 7.72c-.78.78-.78 2.05 0 2.83L4 21.41c.39.39.9.59 1.41.59.51 0 1.02-.2 1.41-.59l7.78-7.78 2.81-2.81c.8-.78.8-2.07 0-2.86zM5.41 20L4 18.59l7.72-7.72 1.47 1.35L5.41 20z\"/>\n",
              "  </svg>\n",
              "      </button>\n",
              "      \n",
              "  <style>\n",
              "    .colab-df-container {\n",
              "      display:flex;\n",
              "      flex-wrap:wrap;\n",
              "      gap: 12px;\n",
              "    }\n",
              "\n",
              "    .colab-df-convert {\n",
              "      background-color: #E8F0FE;\n",
              "      border: none;\n",
              "      border-radius: 50%;\n",
              "      cursor: pointer;\n",
              "      display: none;\n",
              "      fill: #1967D2;\n",
              "      height: 32px;\n",
              "      padding: 0 0 0 0;\n",
              "      width: 32px;\n",
              "    }\n",
              "\n",
              "    .colab-df-convert:hover {\n",
              "      background-color: #E2EBFA;\n",
              "      box-shadow: 0px 1px 2px rgba(60, 64, 67, 0.3), 0px 1px 3px 1px rgba(60, 64, 67, 0.15);\n",
              "      fill: #174EA6;\n",
              "    }\n",
              "\n",
              "    [theme=dark] .colab-df-convert {\n",
              "      background-color: #3B4455;\n",
              "      fill: #D2E3FC;\n",
              "    }\n",
              "\n",
              "    [theme=dark] .colab-df-convert:hover {\n",
              "      background-color: #434B5C;\n",
              "      box-shadow: 0px 1px 3px 1px rgba(0, 0, 0, 0.15);\n",
              "      filter: drop-shadow(0px 1px 2px rgba(0, 0, 0, 0.3));\n",
              "      fill: #FFFFFF;\n",
              "    }\n",
              "  </style>\n",
              "\n",
              "      <script>\n",
              "        const buttonEl =\n",
              "          document.querySelector('#df-ff80b0db-18ea-4cbd-a7a3-66b7fb6c8308 button.colab-df-convert');\n",
              "        buttonEl.style.display =\n",
              "          google.colab.kernel.accessAllowed ? 'block' : 'none';\n",
              "\n",
              "        async function convertToInteractive(key) {\n",
              "          const element = document.querySelector('#df-ff80b0db-18ea-4cbd-a7a3-66b7fb6c8308');\n",
              "          const dataTable =\n",
              "            await google.colab.kernel.invokeFunction('convertToInteractive',\n",
              "                                                     [key], {});\n",
              "          if (!dataTable) return;\n",
              "\n",
              "          const docLinkHtml = 'Like what you see? Visit the ' +\n",
              "            '<a target=\"_blank\" href=https://colab.research.google.com/notebooks/data_table.ipynb>data table notebook</a>'\n",
              "            + ' to learn more about interactive tables.';\n",
              "          element.innerHTML = '';\n",
              "          dataTable['output_type'] = 'display_data';\n",
              "          await google.colab.output.renderOutput(dataTable, element);\n",
              "          const docLink = document.createElement('div');\n",
              "          docLink.innerHTML = docLinkHtml;\n",
              "          element.appendChild(docLink);\n",
              "        }\n",
              "      </script>\n",
              "    </div>\n",
              "  </div>\n",
              "  "
            ]
          },
          "metadata": {},
          "execution_count": 7
        }
      ]
    },
    {
      "cell_type": "code",
      "source": [
        "data.columns\n"
      ],
      "metadata": {
        "id": "sun2dJCseVKW",
        "colab": {
          "base_uri": "https://localhost:8080/"
        },
        "outputId": "68b7d1f7-4d30-4c72-e7ee-36388c6b34b7"
      },
      "execution_count": 8,
      "outputs": [
        {
          "output_type": "execute_result",
          "data": {
            "text/plain": [
              "Index(['id', 'member_id', 'loan_amnt', 'funded_amnt', 'funded_amnt_inv',\n",
              "       'term', 'int_rate', 'installment', 'grade', 'sub_grade',\n",
              "       ...\n",
              "       'num_tl_90g_dpd_24m', 'num_tl_op_past_12m', 'pct_tl_nvr_dlq',\n",
              "       'percent_bc_gt_75', 'pub_rec_bankruptcies', 'tax_liens',\n",
              "       'tot_hi_cred_lim', 'total_bal_ex_mort', 'total_bc_limit',\n",
              "       'total_il_high_credit_limit'],\n",
              "      dtype='object', length=111)"
            ]
          },
          "metadata": {},
          "execution_count": 8
        }
      ]
    },
    {
      "cell_type": "markdown",
      "source": [
        "\n",
        "\n",
        "---\n",
        "\n",
        "# *Data Cleaning*\n",
        "\n",
        "1. Need to fix rows and columns\n",
        "2. Need to fix missing values with high percentage \n",
        "3. Drop few columns which has mostly NA values or not much Significant.\n",
        "4. Drop all rows having current status. \n",
        "---\n",
        "\n"
      ],
      "metadata": {
        "id": "KERn2kMDgwg4"
      }
    },
    {
      "cell_type": "markdown",
      "source": [
        "\n",
        "\n",
        "---\n",
        "\n",
        "#Check all Null values in the data set\n",
        "---\n",
        "\n"
      ],
      "metadata": {
        "id": "7OIoQCk2hvsW"
      }
    },
    {
      "cell_type": "code",
      "source": [
        "data.isnull().sum()"
      ],
      "metadata": {
        "id": "YoU4agxMeVSc",
        "colab": {
          "base_uri": "https://localhost:8080/"
        },
        "outputId": "8413ee68-c356-4cfb-8621-f0e2126d1111"
      },
      "execution_count": 9,
      "outputs": [
        {
          "output_type": "execute_result",
          "data": {
            "text/plain": [
              "id                                0\n",
              "member_id                         0\n",
              "loan_amnt                         0\n",
              "funded_amnt                       0\n",
              "funded_amnt_inv                   0\n",
              "                              ...  \n",
              "tax_liens                        39\n",
              "tot_hi_cred_lim               39717\n",
              "total_bal_ex_mort             39717\n",
              "total_bc_limit                39717\n",
              "total_il_high_credit_limit    39717\n",
              "Length: 111, dtype: int64"
            ]
          },
          "metadata": {},
          "execution_count": 9
        }
      ]
    },
    {
      "cell_type": "markdown",
      "source": [
        "\n",
        "\n",
        "---\n",
        "\n",
        "\n",
        "##Drop all the columns which has 100% no values (percentage of missing values)\n",
        "\n",
        "\n",
        "\n",
        "\n",
        "\n",
        "\n",
        "---\n",
        "\n"
      ],
      "metadata": {
        "id": "T6kJ1aEqqSf7"
      }
    },
    {
      "cell_type": "code",
      "source": [
        "data.dropna(axis=1,how='all',inplace=True)\n",
        "round((100*data.isnull().sum())/len(data.index))"
      ],
      "metadata": {
        "id": "jz6kVldneVM-",
        "colab": {
          "base_uri": "https://localhost:8080/"
        },
        "outputId": "b9a64f15-03c5-4856-f740-d2015c440030"
      },
      "execution_count": 10,
      "outputs": [
        {
          "output_type": "execute_result",
          "data": {
            "text/plain": [
              "id                             0.0\n",
              "member_id                      0.0\n",
              "loan_amnt                      0.0\n",
              "funded_amnt                    0.0\n",
              "funded_amnt_inv                0.0\n",
              "term                           0.0\n",
              "int_rate                       0.0\n",
              "installment                    0.0\n",
              "grade                          0.0\n",
              "sub_grade                      0.0\n",
              "emp_title                      6.0\n",
              "emp_length                     3.0\n",
              "home_ownership                 0.0\n",
              "annual_inc                     0.0\n",
              "verification_status            0.0\n",
              "issue_d                        0.0\n",
              "loan_status                    0.0\n",
              "pymnt_plan                     0.0\n",
              "url                            0.0\n",
              "desc                          33.0\n",
              "purpose                        0.0\n",
              "title                          0.0\n",
              "zip_code                       0.0\n",
              "addr_state                     0.0\n",
              "dti                            0.0\n",
              "delinq_2yrs                    0.0\n",
              "earliest_cr_line               0.0\n",
              "inq_last_6mths                 0.0\n",
              "mths_since_last_delinq        65.0\n",
              "mths_since_last_record        93.0\n",
              "open_acc                       0.0\n",
              "pub_rec                        0.0\n",
              "revol_bal                      0.0\n",
              "revol_util                     0.0\n",
              "total_acc                      0.0\n",
              "initial_list_status            0.0\n",
              "out_prncp                      0.0\n",
              "out_prncp_inv                  0.0\n",
              "total_pymnt                    0.0\n",
              "total_pymnt_inv                0.0\n",
              "total_rec_prncp                0.0\n",
              "total_rec_int                  0.0\n",
              "total_rec_late_fee             0.0\n",
              "recoveries                     0.0\n",
              "collection_recovery_fee        0.0\n",
              "last_pymnt_d                   0.0\n",
              "last_pymnt_amnt                0.0\n",
              "next_pymnt_d                  97.0\n",
              "last_credit_pull_d             0.0\n",
              "collections_12_mths_ex_med     0.0\n",
              "policy_code                    0.0\n",
              "application_type               0.0\n",
              "acc_now_delinq                 0.0\n",
              "chargeoff_within_12_mths       0.0\n",
              "delinq_amnt                    0.0\n",
              "pub_rec_bankruptcies           2.0\n",
              "tax_liens                      0.0\n",
              "dtype: float64"
            ]
          },
          "metadata": {},
          "execution_count": 10
        }
      ]
    },
    {
      "cell_type": "markdown",
      "source": [
        "\n",
        "\n",
        "---\n",
        "Drop colums have more missing records\n",
        "1. next_pymnt_d\n",
        "2. mths_since_last_record\n",
        "3. mths_since_last_delinq\n",
        "---\n",
        "\n"
      ],
      "metadata": {
        "id": "e2iZ1EzCE1qU"
      }
    },
    {
      "cell_type": "code",
      "source": [
        "data.drop(labels=['next_pymnt_d','mths_since_last_record','mths_since_last_delinq'],axis=1,inplace=True)\n",
        "data.info()"
      ],
      "metadata": {
        "id": "m2Q7ai4beVWJ",
        "colab": {
          "base_uri": "https://localhost:8080/"
        },
        "outputId": "c6e9ced7-7f36-464d-cca5-f00171c9e2b4"
      },
      "execution_count": 11,
      "outputs": [
        {
          "output_type": "stream",
          "name": "stdout",
          "text": [
            "<class 'pandas.core.frame.DataFrame'>\n",
            "RangeIndex: 39717 entries, 0 to 39716\n",
            "Data columns (total 54 columns):\n",
            " #   Column                      Non-Null Count  Dtype  \n",
            "---  ------                      --------------  -----  \n",
            " 0   id                          39717 non-null  int64  \n",
            " 1   member_id                   39717 non-null  int64  \n",
            " 2   loan_amnt                   39717 non-null  int64  \n",
            " 3   funded_amnt                 39717 non-null  int64  \n",
            " 4   funded_amnt_inv             39717 non-null  float64\n",
            " 5   term                        39717 non-null  object \n",
            " 6   int_rate                    39717 non-null  object \n",
            " 7   installment                 39717 non-null  float64\n",
            " 8   grade                       39717 non-null  object \n",
            " 9   sub_grade                   39717 non-null  object \n",
            " 10  emp_title                   37258 non-null  object \n",
            " 11  emp_length                  38642 non-null  object \n",
            " 12  home_ownership              39717 non-null  object \n",
            " 13  annual_inc                  39717 non-null  float64\n",
            " 14  verification_status         39717 non-null  object \n",
            " 15  issue_d                     39717 non-null  object \n",
            " 16  loan_status                 39717 non-null  object \n",
            " 17  pymnt_plan                  39717 non-null  object \n",
            " 18  url                         39717 non-null  object \n",
            " 19  desc                        26777 non-null  object \n",
            " 20  purpose                     39717 non-null  object \n",
            " 21  title                       39706 non-null  object \n",
            " 22  zip_code                    39717 non-null  object \n",
            " 23  addr_state                  39717 non-null  object \n",
            " 24  dti                         39717 non-null  float64\n",
            " 25  delinq_2yrs                 39717 non-null  int64  \n",
            " 26  earliest_cr_line            39717 non-null  object \n",
            " 27  inq_last_6mths              39717 non-null  int64  \n",
            " 28  open_acc                    39717 non-null  int64  \n",
            " 29  pub_rec                     39717 non-null  int64  \n",
            " 30  revol_bal                   39717 non-null  int64  \n",
            " 31  revol_util                  39667 non-null  object \n",
            " 32  total_acc                   39717 non-null  int64  \n",
            " 33  initial_list_status         39717 non-null  object \n",
            " 34  out_prncp                   39717 non-null  float64\n",
            " 35  out_prncp_inv               39717 non-null  float64\n",
            " 36  total_pymnt                 39717 non-null  float64\n",
            " 37  total_pymnt_inv             39717 non-null  float64\n",
            " 38  total_rec_prncp             39717 non-null  float64\n",
            " 39  total_rec_int               39717 non-null  float64\n",
            " 40  total_rec_late_fee          39717 non-null  float64\n",
            " 41  recoveries                  39717 non-null  float64\n",
            " 42  collection_recovery_fee     39717 non-null  float64\n",
            " 43  last_pymnt_d                39646 non-null  object \n",
            " 44  last_pymnt_amnt             39717 non-null  float64\n",
            " 45  last_credit_pull_d          39715 non-null  object \n",
            " 46  collections_12_mths_ex_med  39661 non-null  float64\n",
            " 47  policy_code                 39717 non-null  int64  \n",
            " 48  application_type            39717 non-null  object \n",
            " 49  acc_now_delinq              39717 non-null  int64  \n",
            " 50  chargeoff_within_12_mths    39661 non-null  float64\n",
            " 51  delinq_amnt                 39717 non-null  int64  \n",
            " 52  pub_rec_bankruptcies        39020 non-null  float64\n",
            " 53  tax_liens                   39678 non-null  float64\n",
            "dtypes: float64(18), int64(13), object(23)\n",
            "memory usage: 16.4+ MB\n"
          ]
        }
      ]
    },
    {
      "cell_type": "markdown",
      "source": [
        "\n",
        "\n",
        "---\n",
        "\n",
        "Check data shape , All null coloumn has been removed.\n",
        "\n",
        "---\n",
        "\n"
      ],
      "metadata": {
        "id": "F9LgJnQmFF99"
      }
    },
    {
      "cell_type": "code",
      "source": [
        "data.shape\n",
        "data.info()\n",
        "data.head()"
      ],
      "metadata": {
        "id": "_u7ZBMRYEClx",
        "colab": {
          "base_uri": "https://localhost:8080/",
          "height": 1000
        },
        "outputId": "8ab91ae1-63b3-43c9-d1b1-d334dfa7b21d"
      },
      "execution_count": 12,
      "outputs": [
        {
          "output_type": "stream",
          "name": "stdout",
          "text": [
            "<class 'pandas.core.frame.DataFrame'>\n",
            "RangeIndex: 39717 entries, 0 to 39716\n",
            "Data columns (total 54 columns):\n",
            " #   Column                      Non-Null Count  Dtype  \n",
            "---  ------                      --------------  -----  \n",
            " 0   id                          39717 non-null  int64  \n",
            " 1   member_id                   39717 non-null  int64  \n",
            " 2   loan_amnt                   39717 non-null  int64  \n",
            " 3   funded_amnt                 39717 non-null  int64  \n",
            " 4   funded_amnt_inv             39717 non-null  float64\n",
            " 5   term                        39717 non-null  object \n",
            " 6   int_rate                    39717 non-null  object \n",
            " 7   installment                 39717 non-null  float64\n",
            " 8   grade                       39717 non-null  object \n",
            " 9   sub_grade                   39717 non-null  object \n",
            " 10  emp_title                   37258 non-null  object \n",
            " 11  emp_length                  38642 non-null  object \n",
            " 12  home_ownership              39717 non-null  object \n",
            " 13  annual_inc                  39717 non-null  float64\n",
            " 14  verification_status         39717 non-null  object \n",
            " 15  issue_d                     39717 non-null  object \n",
            " 16  loan_status                 39717 non-null  object \n",
            " 17  pymnt_plan                  39717 non-null  object \n",
            " 18  url                         39717 non-null  object \n",
            " 19  desc                        26777 non-null  object \n",
            " 20  purpose                     39717 non-null  object \n",
            " 21  title                       39706 non-null  object \n",
            " 22  zip_code                    39717 non-null  object \n",
            " 23  addr_state                  39717 non-null  object \n",
            " 24  dti                         39717 non-null  float64\n",
            " 25  delinq_2yrs                 39717 non-null  int64  \n",
            " 26  earliest_cr_line            39717 non-null  object \n",
            " 27  inq_last_6mths              39717 non-null  int64  \n",
            " 28  open_acc                    39717 non-null  int64  \n",
            " 29  pub_rec                     39717 non-null  int64  \n",
            " 30  revol_bal                   39717 non-null  int64  \n",
            " 31  revol_util                  39667 non-null  object \n",
            " 32  total_acc                   39717 non-null  int64  \n",
            " 33  initial_list_status         39717 non-null  object \n",
            " 34  out_prncp                   39717 non-null  float64\n",
            " 35  out_prncp_inv               39717 non-null  float64\n",
            " 36  total_pymnt                 39717 non-null  float64\n",
            " 37  total_pymnt_inv             39717 non-null  float64\n",
            " 38  total_rec_prncp             39717 non-null  float64\n",
            " 39  total_rec_int               39717 non-null  float64\n",
            " 40  total_rec_late_fee          39717 non-null  float64\n",
            " 41  recoveries                  39717 non-null  float64\n",
            " 42  collection_recovery_fee     39717 non-null  float64\n",
            " 43  last_pymnt_d                39646 non-null  object \n",
            " 44  last_pymnt_amnt             39717 non-null  float64\n",
            " 45  last_credit_pull_d          39715 non-null  object \n",
            " 46  collections_12_mths_ex_med  39661 non-null  float64\n",
            " 47  policy_code                 39717 non-null  int64  \n",
            " 48  application_type            39717 non-null  object \n",
            " 49  acc_now_delinq              39717 non-null  int64  \n",
            " 50  chargeoff_within_12_mths    39661 non-null  float64\n",
            " 51  delinq_amnt                 39717 non-null  int64  \n",
            " 52  pub_rec_bankruptcies        39020 non-null  float64\n",
            " 53  tax_liens                   39678 non-null  float64\n",
            "dtypes: float64(18), int64(13), object(23)\n",
            "memory usage: 16.4+ MB\n"
          ]
        },
        {
          "output_type": "execute_result",
          "data": {
            "text/plain": [
              "        id  member_id  loan_amnt  funded_amnt  funded_amnt_inv        term  \\\n",
              "0  1077501    1296599       5000         5000           4975.0   36 months   \n",
              "1  1077430    1314167       2500         2500           2500.0   60 months   \n",
              "2  1077175    1313524       2400         2400           2400.0   36 months   \n",
              "3  1076863    1277178      10000        10000          10000.0   36 months   \n",
              "4  1075358    1311748       3000         3000           3000.0   60 months   \n",
              "\n",
              "  int_rate  installment grade sub_grade  ... last_pymnt_amnt  \\\n",
              "0   10.65%       162.87     B        B2  ...          171.62   \n",
              "1   15.27%        59.83     C        C4  ...          119.66   \n",
              "2   15.96%        84.33     C        C5  ...          649.91   \n",
              "3   13.49%       339.31     C        C1  ...          357.48   \n",
              "4   12.69%        67.79     B        B5  ...           67.79   \n",
              "\n",
              "  last_credit_pull_d collections_12_mths_ex_med  policy_code application_type  \\\n",
              "0             May-16                        0.0            1       INDIVIDUAL   \n",
              "1             Sep-13                        0.0            1       INDIVIDUAL   \n",
              "2             May-16                        0.0            1       INDIVIDUAL   \n",
              "3             Apr-16                        0.0            1       INDIVIDUAL   \n",
              "4             May-16                        0.0            1       INDIVIDUAL   \n",
              "\n",
              "  acc_now_delinq chargeoff_within_12_mths delinq_amnt pub_rec_bankruptcies  \\\n",
              "0              0                      0.0           0                  0.0   \n",
              "1              0                      0.0           0                  0.0   \n",
              "2              0                      0.0           0                  0.0   \n",
              "3              0                      0.0           0                  0.0   \n",
              "4              0                      0.0           0                  0.0   \n",
              "\n",
              "  tax_liens  \n",
              "0       0.0  \n",
              "1       0.0  \n",
              "2       0.0  \n",
              "3       0.0  \n",
              "4       0.0  \n",
              "\n",
              "[5 rows x 54 columns]"
            ],
            "text/html": [
              "\n",
              "  <div id=\"df-b73c2090-164b-4537-832d-9de2899a2abe\">\n",
              "    <div class=\"colab-df-container\">\n",
              "      <div>\n",
              "<style scoped>\n",
              "    .dataframe tbody tr th:only-of-type {\n",
              "        vertical-align: middle;\n",
              "    }\n",
              "\n",
              "    .dataframe tbody tr th {\n",
              "        vertical-align: top;\n",
              "    }\n",
              "\n",
              "    .dataframe thead th {\n",
              "        text-align: right;\n",
              "    }\n",
              "</style>\n",
              "<table border=\"1\" class=\"dataframe\">\n",
              "  <thead>\n",
              "    <tr style=\"text-align: right;\">\n",
              "      <th></th>\n",
              "      <th>id</th>\n",
              "      <th>member_id</th>\n",
              "      <th>loan_amnt</th>\n",
              "      <th>funded_amnt</th>\n",
              "      <th>funded_amnt_inv</th>\n",
              "      <th>term</th>\n",
              "      <th>int_rate</th>\n",
              "      <th>installment</th>\n",
              "      <th>grade</th>\n",
              "      <th>sub_grade</th>\n",
              "      <th>...</th>\n",
              "      <th>last_pymnt_amnt</th>\n",
              "      <th>last_credit_pull_d</th>\n",
              "      <th>collections_12_mths_ex_med</th>\n",
              "      <th>policy_code</th>\n",
              "      <th>application_type</th>\n",
              "      <th>acc_now_delinq</th>\n",
              "      <th>chargeoff_within_12_mths</th>\n",
              "      <th>delinq_amnt</th>\n",
              "      <th>pub_rec_bankruptcies</th>\n",
              "      <th>tax_liens</th>\n",
              "    </tr>\n",
              "  </thead>\n",
              "  <tbody>\n",
              "    <tr>\n",
              "      <th>0</th>\n",
              "      <td>1077501</td>\n",
              "      <td>1296599</td>\n",
              "      <td>5000</td>\n",
              "      <td>5000</td>\n",
              "      <td>4975.0</td>\n",
              "      <td>36 months</td>\n",
              "      <td>10.65%</td>\n",
              "      <td>162.87</td>\n",
              "      <td>B</td>\n",
              "      <td>B2</td>\n",
              "      <td>...</td>\n",
              "      <td>171.62</td>\n",
              "      <td>May-16</td>\n",
              "      <td>0.0</td>\n",
              "      <td>1</td>\n",
              "      <td>INDIVIDUAL</td>\n",
              "      <td>0</td>\n",
              "      <td>0.0</td>\n",
              "      <td>0</td>\n",
              "      <td>0.0</td>\n",
              "      <td>0.0</td>\n",
              "    </tr>\n",
              "    <tr>\n",
              "      <th>1</th>\n",
              "      <td>1077430</td>\n",
              "      <td>1314167</td>\n",
              "      <td>2500</td>\n",
              "      <td>2500</td>\n",
              "      <td>2500.0</td>\n",
              "      <td>60 months</td>\n",
              "      <td>15.27%</td>\n",
              "      <td>59.83</td>\n",
              "      <td>C</td>\n",
              "      <td>C4</td>\n",
              "      <td>...</td>\n",
              "      <td>119.66</td>\n",
              "      <td>Sep-13</td>\n",
              "      <td>0.0</td>\n",
              "      <td>1</td>\n",
              "      <td>INDIVIDUAL</td>\n",
              "      <td>0</td>\n",
              "      <td>0.0</td>\n",
              "      <td>0</td>\n",
              "      <td>0.0</td>\n",
              "      <td>0.0</td>\n",
              "    </tr>\n",
              "    <tr>\n",
              "      <th>2</th>\n",
              "      <td>1077175</td>\n",
              "      <td>1313524</td>\n",
              "      <td>2400</td>\n",
              "      <td>2400</td>\n",
              "      <td>2400.0</td>\n",
              "      <td>36 months</td>\n",
              "      <td>15.96%</td>\n",
              "      <td>84.33</td>\n",
              "      <td>C</td>\n",
              "      <td>C5</td>\n",
              "      <td>...</td>\n",
              "      <td>649.91</td>\n",
              "      <td>May-16</td>\n",
              "      <td>0.0</td>\n",
              "      <td>1</td>\n",
              "      <td>INDIVIDUAL</td>\n",
              "      <td>0</td>\n",
              "      <td>0.0</td>\n",
              "      <td>0</td>\n",
              "      <td>0.0</td>\n",
              "      <td>0.0</td>\n",
              "    </tr>\n",
              "    <tr>\n",
              "      <th>3</th>\n",
              "      <td>1076863</td>\n",
              "      <td>1277178</td>\n",
              "      <td>10000</td>\n",
              "      <td>10000</td>\n",
              "      <td>10000.0</td>\n",
              "      <td>36 months</td>\n",
              "      <td>13.49%</td>\n",
              "      <td>339.31</td>\n",
              "      <td>C</td>\n",
              "      <td>C1</td>\n",
              "      <td>...</td>\n",
              "      <td>357.48</td>\n",
              "      <td>Apr-16</td>\n",
              "      <td>0.0</td>\n",
              "      <td>1</td>\n",
              "      <td>INDIVIDUAL</td>\n",
              "      <td>0</td>\n",
              "      <td>0.0</td>\n",
              "      <td>0</td>\n",
              "      <td>0.0</td>\n",
              "      <td>0.0</td>\n",
              "    </tr>\n",
              "    <tr>\n",
              "      <th>4</th>\n",
              "      <td>1075358</td>\n",
              "      <td>1311748</td>\n",
              "      <td>3000</td>\n",
              "      <td>3000</td>\n",
              "      <td>3000.0</td>\n",
              "      <td>60 months</td>\n",
              "      <td>12.69%</td>\n",
              "      <td>67.79</td>\n",
              "      <td>B</td>\n",
              "      <td>B5</td>\n",
              "      <td>...</td>\n",
              "      <td>67.79</td>\n",
              "      <td>May-16</td>\n",
              "      <td>0.0</td>\n",
              "      <td>1</td>\n",
              "      <td>INDIVIDUAL</td>\n",
              "      <td>0</td>\n",
              "      <td>0.0</td>\n",
              "      <td>0</td>\n",
              "      <td>0.0</td>\n",
              "      <td>0.0</td>\n",
              "    </tr>\n",
              "  </tbody>\n",
              "</table>\n",
              "<p>5 rows × 54 columns</p>\n",
              "</div>\n",
              "      <button class=\"colab-df-convert\" onclick=\"convertToInteractive('df-b73c2090-164b-4537-832d-9de2899a2abe')\"\n",
              "              title=\"Convert this dataframe to an interactive table.\"\n",
              "              style=\"display:none;\">\n",
              "        \n",
              "  <svg xmlns=\"http://www.w3.org/2000/svg\" height=\"24px\"viewBox=\"0 0 24 24\"\n",
              "       width=\"24px\">\n",
              "    <path d=\"M0 0h24v24H0V0z\" fill=\"none\"/>\n",
              "    <path d=\"M18.56 5.44l.94 2.06.94-2.06 2.06-.94-2.06-.94-.94-2.06-.94 2.06-2.06.94zm-11 1L8.5 8.5l.94-2.06 2.06-.94-2.06-.94L8.5 2.5l-.94 2.06-2.06.94zm10 10l.94 2.06.94-2.06 2.06-.94-2.06-.94-.94-2.06-.94 2.06-2.06.94z\"/><path d=\"M17.41 7.96l-1.37-1.37c-.4-.4-.92-.59-1.43-.59-.52 0-1.04.2-1.43.59L10.3 9.45l-7.72 7.72c-.78.78-.78 2.05 0 2.83L4 21.41c.39.39.9.59 1.41.59.51 0 1.02-.2 1.41-.59l7.78-7.78 2.81-2.81c.8-.78.8-2.07 0-2.86zM5.41 20L4 18.59l7.72-7.72 1.47 1.35L5.41 20z\"/>\n",
              "  </svg>\n",
              "      </button>\n",
              "      \n",
              "  <style>\n",
              "    .colab-df-container {\n",
              "      display:flex;\n",
              "      flex-wrap:wrap;\n",
              "      gap: 12px;\n",
              "    }\n",
              "\n",
              "    .colab-df-convert {\n",
              "      background-color: #E8F0FE;\n",
              "      border: none;\n",
              "      border-radius: 50%;\n",
              "      cursor: pointer;\n",
              "      display: none;\n",
              "      fill: #1967D2;\n",
              "      height: 32px;\n",
              "      padding: 0 0 0 0;\n",
              "      width: 32px;\n",
              "    }\n",
              "\n",
              "    .colab-df-convert:hover {\n",
              "      background-color: #E2EBFA;\n",
              "      box-shadow: 0px 1px 2px rgba(60, 64, 67, 0.3), 0px 1px 3px 1px rgba(60, 64, 67, 0.15);\n",
              "      fill: #174EA6;\n",
              "    }\n",
              "\n",
              "    [theme=dark] .colab-df-convert {\n",
              "      background-color: #3B4455;\n",
              "      fill: #D2E3FC;\n",
              "    }\n",
              "\n",
              "    [theme=dark] .colab-df-convert:hover {\n",
              "      background-color: #434B5C;\n",
              "      box-shadow: 0px 1px 3px 1px rgba(0, 0, 0, 0.15);\n",
              "      filter: drop-shadow(0px 1px 2px rgba(0, 0, 0, 0.3));\n",
              "      fill: #FFFFFF;\n",
              "    }\n",
              "  </style>\n",
              "\n",
              "      <script>\n",
              "        const buttonEl =\n",
              "          document.querySelector('#df-b73c2090-164b-4537-832d-9de2899a2abe button.colab-df-convert');\n",
              "        buttonEl.style.display =\n",
              "          google.colab.kernel.accessAllowed ? 'block' : 'none';\n",
              "\n",
              "        async function convertToInteractive(key) {\n",
              "          const element = document.querySelector('#df-b73c2090-164b-4537-832d-9de2899a2abe');\n",
              "          const dataTable =\n",
              "            await google.colab.kernel.invokeFunction('convertToInteractive',\n",
              "                                                     [key], {});\n",
              "          if (!dataTable) return;\n",
              "\n",
              "          const docLinkHtml = 'Like what you see? Visit the ' +\n",
              "            '<a target=\"_blank\" href=https://colab.research.google.com/notebooks/data_table.ipynb>data table notebook</a>'\n",
              "            + ' to learn more about interactive tables.';\n",
              "          element.innerHTML = '';\n",
              "          dataTable['output_type'] = 'display_data';\n",
              "          await google.colab.output.renderOutput(dataTable, element);\n",
              "          const docLink = document.createElement('div');\n",
              "          docLink.innerHTML = docLinkHtml;\n",
              "          element.appendChild(docLink);\n",
              "        }\n",
              "      </script>\n",
              "    </div>\n",
              "  </div>\n",
              "  "
            ]
          },
          "metadata": {},
          "execution_count": 12
        }
      ]
    },
    {
      "cell_type": "markdown",
      "source": [
        "#Check now rows which contains 100% empty data"
      ],
      "metadata": {
        "id": "pcCD3nZBbGrq"
      }
    },
    {
      "cell_type": "code",
      "source": [
        "round((100*data.isnull().sum(axis=1))/len(data.index))"
      ],
      "metadata": {
        "id": "vZRewCnEeVX5",
        "colab": {
          "base_uri": "https://localhost:8080/"
        },
        "outputId": "0420d3af-b569-4384-e6b2-754ad0914a31"
      },
      "execution_count": 13,
      "outputs": [
        {
          "output_type": "execute_result",
          "data": {
            "text/plain": [
              "0        0.0\n",
              "1        0.0\n",
              "2        0.0\n",
              "3        0.0\n",
              "4        0.0\n",
              "        ... \n",
              "39712    0.0\n",
              "39713    0.0\n",
              "39714    0.0\n",
              "39715    0.0\n",
              "39716    0.0\n",
              "Length: 39717, dtype: float64"
            ]
          },
          "metadata": {},
          "execution_count": 13
        }
      ]
    },
    {
      "cell_type": "code",
      "source": [
        "print('Number of empty Rows',data.isnull().all(axis=1).sum())\n",
        "print('Number of empty Columns',data.isnull().all(axis=0).sum())\n"
      ],
      "metadata": {
        "id": "KljGbcb8cqne",
        "colab": {
          "base_uri": "https://localhost:8080/"
        },
        "outputId": "d03dcdd7-e54a-466d-e81f-6f04dd7f1bb5"
      },
      "execution_count": 14,
      "outputs": [
        {
          "output_type": "stream",
          "name": "stdout",
          "text": [
            "Number of empty Rows 0\n",
            "Number of empty Columns 0\n"
          ]
        }
      ]
    },
    {
      "cell_type": "markdown",
      "source": [
        "\n",
        "\n",
        "---\n",
        "\n",
        "#Dropping all columns has NA value or not required\n",
        "\n",
        "---\n",
        "\n"
      ],
      "metadata": {
        "id": "J4eZEDD5e_L9"
      }
    },
    {
      "cell_type": "code",
      "source": [
        "data.drop(data.iloc[:, 49:108], inplace = True, axis = 1) \n",
        "data.columns\n"
      ],
      "metadata": {
        "id": "0EnyLikmcqp3",
        "colab": {
          "base_uri": "https://localhost:8080/"
        },
        "outputId": "b234da26-5667-4d83-a07f-5f42f747de3a"
      },
      "execution_count": 15,
      "outputs": [
        {
          "output_type": "execute_result",
          "data": {
            "text/plain": [
              "Index(['id', 'member_id', 'loan_amnt', 'funded_amnt', 'funded_amnt_inv',\n",
              "       'term', 'int_rate', 'installment', 'grade', 'sub_grade', 'emp_title',\n",
              "       'emp_length', 'home_ownership', 'annual_inc', 'verification_status',\n",
              "       'issue_d', 'loan_status', 'pymnt_plan', 'url', 'desc', 'purpose',\n",
              "       'title', 'zip_code', 'addr_state', 'dti', 'delinq_2yrs',\n",
              "       'earliest_cr_line', 'inq_last_6mths', 'open_acc', 'pub_rec',\n",
              "       'revol_bal', 'revol_util', 'total_acc', 'initial_list_status',\n",
              "       'out_prncp', 'out_prncp_inv', 'total_pymnt', 'total_pymnt_inv',\n",
              "       'total_rec_prncp', 'total_rec_int', 'total_rec_late_fee', 'recoveries',\n",
              "       'collection_recovery_fee', 'last_pymnt_d', 'last_pymnt_amnt',\n",
              "       'last_credit_pull_d', 'collections_12_mths_ex_med', 'policy_code',\n",
              "       'application_type'],\n",
              "      dtype='object')"
            ]
          },
          "metadata": {},
          "execution_count": 15
        }
      ]
    },
    {
      "cell_type": "markdown",
      "source": [
        "\n",
        "\n",
        "---\n",
        "\n",
        "\n",
        "Removing rows with loan_status as Current \n",
        "\n",
        "\n",
        "---\n",
        "\n"
      ],
      "metadata": {
        "id": "vAw38f5owzTP"
      }
    },
    {
      "cell_type": "code",
      "source": [
        "data[data.loan_status != 'Current']\n",
        "data.shape\n"
      ],
      "metadata": {
        "id": "20Y_C1wygFZo",
        "colab": {
          "base_uri": "https://localhost:8080/"
        },
        "outputId": "d142f991-413c-447a-82ea-46b8e04aae4a"
      },
      "execution_count": 16,
      "outputs": [
        {
          "output_type": "execute_result",
          "data": {
            "text/plain": [
              "(39717, 49)"
            ]
          },
          "metadata": {},
          "execution_count": 16
        }
      ]
    },
    {
      "cell_type": "code",
      "source": [
        "data.info()"
      ],
      "metadata": {
        "colab": {
          "base_uri": "https://localhost:8080/"
        },
        "id": "d8FFmUeYpuZI",
        "outputId": "6754baca-45fc-46f0-fb72-2a5b4258b3c4"
      },
      "execution_count": 17,
      "outputs": [
        {
          "output_type": "stream",
          "name": "stdout",
          "text": [
            "<class 'pandas.core.frame.DataFrame'>\n",
            "RangeIndex: 39717 entries, 0 to 39716\n",
            "Data columns (total 49 columns):\n",
            " #   Column                      Non-Null Count  Dtype  \n",
            "---  ------                      --------------  -----  \n",
            " 0   id                          39717 non-null  int64  \n",
            " 1   member_id                   39717 non-null  int64  \n",
            " 2   loan_amnt                   39717 non-null  int64  \n",
            " 3   funded_amnt                 39717 non-null  int64  \n",
            " 4   funded_amnt_inv             39717 non-null  float64\n",
            " 5   term                        39717 non-null  object \n",
            " 6   int_rate                    39717 non-null  object \n",
            " 7   installment                 39717 non-null  float64\n",
            " 8   grade                       39717 non-null  object \n",
            " 9   sub_grade                   39717 non-null  object \n",
            " 10  emp_title                   37258 non-null  object \n",
            " 11  emp_length                  38642 non-null  object \n",
            " 12  home_ownership              39717 non-null  object \n",
            " 13  annual_inc                  39717 non-null  float64\n",
            " 14  verification_status         39717 non-null  object \n",
            " 15  issue_d                     39717 non-null  object \n",
            " 16  loan_status                 39717 non-null  object \n",
            " 17  pymnt_plan                  39717 non-null  object \n",
            " 18  url                         39717 non-null  object \n",
            " 19  desc                        26777 non-null  object \n",
            " 20  purpose                     39717 non-null  object \n",
            " 21  title                       39706 non-null  object \n",
            " 22  zip_code                    39717 non-null  object \n",
            " 23  addr_state                  39717 non-null  object \n",
            " 24  dti                         39717 non-null  float64\n",
            " 25  delinq_2yrs                 39717 non-null  int64  \n",
            " 26  earliest_cr_line            39717 non-null  object \n",
            " 27  inq_last_6mths              39717 non-null  int64  \n",
            " 28  open_acc                    39717 non-null  int64  \n",
            " 29  pub_rec                     39717 non-null  int64  \n",
            " 30  revol_bal                   39717 non-null  int64  \n",
            " 31  revol_util                  39667 non-null  object \n",
            " 32  total_acc                   39717 non-null  int64  \n",
            " 33  initial_list_status         39717 non-null  object \n",
            " 34  out_prncp                   39717 non-null  float64\n",
            " 35  out_prncp_inv               39717 non-null  float64\n",
            " 36  total_pymnt                 39717 non-null  float64\n",
            " 37  total_pymnt_inv             39717 non-null  float64\n",
            " 38  total_rec_prncp             39717 non-null  float64\n",
            " 39  total_rec_int               39717 non-null  float64\n",
            " 40  total_rec_late_fee          39717 non-null  float64\n",
            " 41  recoveries                  39717 non-null  float64\n",
            " 42  collection_recovery_fee     39717 non-null  float64\n",
            " 43  last_pymnt_d                39646 non-null  object \n",
            " 44  last_pymnt_amnt             39717 non-null  float64\n",
            " 45  last_credit_pull_d          39715 non-null  object \n",
            " 46  collections_12_mths_ex_med  39661 non-null  float64\n",
            " 47  policy_code                 39717 non-null  int64  \n",
            " 48  application_type            39717 non-null  object \n",
            "dtypes: float64(15), int64(11), object(23)\n",
            "memory usage: 14.8+ MB\n"
          ]
        }
      ]
    },
    {
      "cell_type": "code",
      "source": [
        "datetime_colmns=['issue_d','earliest_cr_line','last_pymnt_d','last_credit_pull_d']\n",
        "data[datetime_colmns].info()"
      ],
      "metadata": {
        "colab": {
          "base_uri": "https://localhost:8080/"
        },
        "id": "PGstqzvRp60N",
        "outputId": "a75f40fd-8734-4023-9c09-06e50fc8a501"
      },
      "execution_count": 18,
      "outputs": [
        {
          "output_type": "stream",
          "name": "stdout",
          "text": [
            "<class 'pandas.core.frame.DataFrame'>\n",
            "RangeIndex: 39717 entries, 0 to 39716\n",
            "Data columns (total 4 columns):\n",
            " #   Column              Non-Null Count  Dtype \n",
            "---  ------              --------------  ----- \n",
            " 0   issue_d             39717 non-null  object\n",
            " 1   earliest_cr_line    39717 non-null  object\n",
            " 2   last_pymnt_d        39646 non-null  object\n",
            " 3   last_credit_pull_d  39715 non-null  object\n",
            "dtypes: object(4)\n",
            "memory usage: 1.2+ MB\n"
          ]
        }
      ]
    },
    {
      "cell_type": "code",
      "source": [
        "data['issue_d'] = pd.to_datetime(data['issue_d'], format='%b-%y')\n",
        "data['earliest_cr_line'] = pd.to_datetime(data['earliest_cr_line'], format='%b-%y')\n",
        "data['last_pymnt_d'] = pd.to_datetime(data['last_pymnt_d'], format='%b-%y')\n",
        "data['last_credit_pull_d'] = pd.to_datetime(data['last_credit_pull_d'], format='%b-%y')"
      ],
      "metadata": {
        "id": "6kWcWtAqqb9-"
      },
      "execution_count": 19,
      "outputs": []
    },
    {
      "cell_type": "code",
      "source": [
        "# Data Manipulation\n",
        "print(data.int_rate.head())\n",
        "data['int_rate'] = data[['int_rate']].applymap(lambda x:str(x).rstrip('%'))\n",
        "data['int_rate'] = data['int_rate'].astype('float64')\n",
        "print(data.int_rate.head())\n",
        "\n",
        "data['revol_util'] = data['revol_util'].str.strip('%').astype('float')\n",
        "print(data.revol_util.head())"
      ],
      "metadata": {
        "colab": {
          "base_uri": "https://localhost:8080/"
        },
        "id": "13rm8469qpML",
        "outputId": "7d3902a0-7108-4579-eb25-20c1f3564c44"
      },
      "execution_count": 20,
      "outputs": [
        {
          "output_type": "stream",
          "name": "stdout",
          "text": [
            "0    10.65%\n",
            "1    15.27%\n",
            "2    15.96%\n",
            "3    13.49%\n",
            "4    12.69%\n",
            "Name: int_rate, dtype: object\n",
            "0    10.65\n",
            "1    15.27\n",
            "2    15.96\n",
            "3    13.49\n",
            "4    12.69\n",
            "Name: int_rate, dtype: float64\n",
            "0    83.7\n",
            "1     9.4\n",
            "2    98.5\n",
            "3    21.0\n",
            "4    53.9\n",
            "Name: revol_util, dtype: float64\n"
          ]
        }
      ]
    },
    {
      "cell_type": "markdown",
      "source": [
        "\n",
        "\n",
        "---\n",
        "\n",
        "\n",
        "#Derived Columns\n",
        "\n",
        "\n",
        "---\n",
        "\n"
      ],
      "metadata": {
        "id": "l9lG-4SK1lUq"
      }
    },
    {
      "cell_type": "code",
      "source": [
        "# Derived columns\n",
        "\n",
        "data.issue_d = pd.to_datetime(data.issue_d, format='%b-%y')\n",
        "data['year'] = data['issue_d'].dt.year\n",
        "data['month'] = data['issue_d'].dt.month"
      ],
      "metadata": {
        "id": "3ijhYC3p1W5T"
      },
      "execution_count": 21,
      "outputs": []
    },
    {
      "cell_type": "code",
      "source": [
        "# Caregorize loan amounts into buckets which will help in analysis further in bivariate analysis.\n",
        "data['loan_amnt_cats'] = pd.cut(data['loan_amnt'], [0, 7000, 14000, 21000, 28000, 35000], labels=['0-7000', '7000-14000', '14000-21000', '21000-28000', '28000 +'])"
      ],
      "metadata": {
        "id": "e6mjzT6B7FfP"
      },
      "execution_count": 22,
      "outputs": []
    },
    {
      "cell_type": "code",
      "source": [
        "# Remove trailing xx in zip code column\n",
        "print(data['zip_code'].head())\n",
        "data['zip_code'] = data[['zip_code']].applymap(lambda x:str(x).rstrip('xx'))\n",
        "print(data['zip_code'].head())"
      ],
      "metadata": {
        "colab": {
          "base_uri": "https://localhost:8080/"
        },
        "id": "vunthb78q3ck",
        "outputId": "4aea058a-1148-428a-fd84-dea75c0848a9"
      },
      "execution_count": 23,
      "outputs": [
        {
          "output_type": "stream",
          "name": "stdout",
          "text": [
            "0    860xx\n",
            "1    309xx\n",
            "2    606xx\n",
            "3    917xx\n",
            "4    972xx\n",
            "Name: zip_code, dtype: object\n",
            "0    860\n",
            "1    309\n",
            "2    606\n",
            "3    917\n",
            "4    972\n",
            "Name: zip_code, dtype: object\n"
          ]
        }
      ]
    },
    {
      "cell_type": "code",
      "source": [
        "# Remove trailing months from term column and rename column as term_in_months\n",
        "print(data['term'].head())\n",
        "data['term'] = data[['term']].applymap(lambda x:str(x).rstrip('months'))\n",
        "data['term'] = data['term'].astype('int64')\n",
        "data.rename(columns={'term':'term_in_months'},inplace=True)\n",
        "print(data['term_in_months'].head())"
      ],
      "metadata": {
        "colab": {
          "base_uri": "https://localhost:8080/"
        },
        "id": "4g-GxJ1oq8rC",
        "outputId": "b6a95e1f-fd27-4d5d-d2ca-ffa921645f91"
      },
      "execution_count": 24,
      "outputs": [
        {
          "output_type": "stream",
          "name": "stdout",
          "text": [
            "0     36 months\n",
            "1     60 months\n",
            "2     36 months\n",
            "3     36 months\n",
            "4     60 months\n",
            "Name: term, dtype: object\n",
            "0    36\n",
            "1    60\n",
            "2    36\n",
            "3    36\n",
            "4    60\n",
            "Name: term_in_months, dtype: int64\n"
          ]
        }
      ]
    },
    {
      "cell_type": "code",
      "source": [
        "# Change funded_amnt_inv type to int64\n",
        "data['funded_amnt_inv'] = data['funded_amnt_inv'].astype(\"int64\")\n",
        "\n",
        "# Change grade and sub grades type to category\n",
        "data['grade'] = data['grade'].astype(\"category\")\n",
        "data['sub_grade'] = data['sub_grade'].astype(\"category\")"
      ],
      "metadata": {
        "id": "1ZNB1-eUsWna"
      },
      "execution_count": 25,
      "outputs": []
    },
    {
      "cell_type": "code",
      "source": [
        "data.info()"
      ],
      "metadata": {
        "colab": {
          "base_uri": "https://localhost:8080/"
        },
        "id": "ddKHsnQEri7m",
        "outputId": "dc5b25b1-833d-4ab6-817f-eb9db72c201f"
      },
      "execution_count": 26,
      "outputs": [
        {
          "output_type": "stream",
          "name": "stdout",
          "text": [
            "<class 'pandas.core.frame.DataFrame'>\n",
            "RangeIndex: 39717 entries, 0 to 39716\n",
            "Data columns (total 52 columns):\n",
            " #   Column                      Non-Null Count  Dtype         \n",
            "---  ------                      --------------  -----         \n",
            " 0   id                          39717 non-null  int64         \n",
            " 1   member_id                   39717 non-null  int64         \n",
            " 2   loan_amnt                   39717 non-null  int64         \n",
            " 3   funded_amnt                 39717 non-null  int64         \n",
            " 4   funded_amnt_inv             39717 non-null  int64         \n",
            " 5   term_in_months              39717 non-null  int64         \n",
            " 6   int_rate                    39717 non-null  float64       \n",
            " 7   installment                 39717 non-null  float64       \n",
            " 8   grade                       39717 non-null  category      \n",
            " 9   sub_grade                   39717 non-null  category      \n",
            " 10  emp_title                   37258 non-null  object        \n",
            " 11  emp_length                  38642 non-null  object        \n",
            " 12  home_ownership              39717 non-null  object        \n",
            " 13  annual_inc                  39717 non-null  float64       \n",
            " 14  verification_status         39717 non-null  object        \n",
            " 15  issue_d                     39717 non-null  datetime64[ns]\n",
            " 16  loan_status                 39717 non-null  object        \n",
            " 17  pymnt_plan                  39717 non-null  object        \n",
            " 18  url                         39717 non-null  object        \n",
            " 19  desc                        26777 non-null  object        \n",
            " 20  purpose                     39717 non-null  object        \n",
            " 21  title                       39706 non-null  object        \n",
            " 22  zip_code                    39717 non-null  object        \n",
            " 23  addr_state                  39717 non-null  object        \n",
            " 24  dti                         39717 non-null  float64       \n",
            " 25  delinq_2yrs                 39717 non-null  int64         \n",
            " 26  earliest_cr_line            39717 non-null  datetime64[ns]\n",
            " 27  inq_last_6mths              39717 non-null  int64         \n",
            " 28  open_acc                    39717 non-null  int64         \n",
            " 29  pub_rec                     39717 non-null  int64         \n",
            " 30  revol_bal                   39717 non-null  int64         \n",
            " 31  revol_util                  39667 non-null  float64       \n",
            " 32  total_acc                   39717 non-null  int64         \n",
            " 33  initial_list_status         39717 non-null  object        \n",
            " 34  out_prncp                   39717 non-null  float64       \n",
            " 35  out_prncp_inv               39717 non-null  float64       \n",
            " 36  total_pymnt                 39717 non-null  float64       \n",
            " 37  total_pymnt_inv             39717 non-null  float64       \n",
            " 38  total_rec_prncp             39717 non-null  float64       \n",
            " 39  total_rec_int               39717 non-null  float64       \n",
            " 40  total_rec_late_fee          39717 non-null  float64       \n",
            " 41  recoveries                  39717 non-null  float64       \n",
            " 42  collection_recovery_fee     39717 non-null  float64       \n",
            " 43  last_pymnt_d                39646 non-null  datetime64[ns]\n",
            " 44  last_pymnt_amnt             39717 non-null  float64       \n",
            " 45  last_credit_pull_d          39715 non-null  datetime64[ns]\n",
            " 46  collections_12_mths_ex_med  39661 non-null  float64       \n",
            " 47  policy_code                 39717 non-null  int64         \n",
            " 48  application_type            39717 non-null  object        \n",
            " 49  year                        39717 non-null  int64         \n",
            " 50  month                       39717 non-null  int64         \n",
            " 51  loan_amnt_cats              39717 non-null  category      \n",
            "dtypes: category(3), datetime64[ns](4), float64(16), int64(15), object(14)\n",
            "memory usage: 15.0+ MB\n"
          ]
        }
      ]
    },
    {
      "cell_type": "markdown",
      "source": [
        "\n",
        "\n",
        "---\n",
        "\n",
        "\n",
        "#Univariate anaylsis\n",
        "\n",
        "\n",
        "---\n",
        "\n"
      ],
      "metadata": {
        "id": "ubmS_lxc_GqU"
      }
    },
    {
      "cell_type": "markdown",
      "source": [
        "Display data  of loan amount. This will give us an idea about what kind of amount people genrally looking for "
      ],
      "metadata": {
        "id": "3LnIintcbFLK"
      }
    },
    {
      "cell_type": "code",
      "source": [
        "sns.boxplot(data.loan_amnt)\n",
        "plt.show()"
      ],
      "metadata": {
        "id": "DMIquY-3gFcD",
        "colab": {
          "base_uri": "https://localhost:8080/",
          "height": 280
        },
        "outputId": "17e6b9df-0624-49c8-c420-8f574a21623a"
      },
      "execution_count": 28,
      "outputs": [
        {
          "output_type": "display_data",
          "data": {
            "text/plain": [
              "<Figure size 432x288 with 1 Axes>"
            ],
            "image/png": "[encoded data removed]"
          },
          "metadata": {
            "needs_background": "light"
          }
        }
      ]
    },
    {
      "cell_type": "code",
      "source": [
        "data['loan_amnt'].describe()"
      ],
      "metadata": {
        "id": "TID8yr_Fi6P1",
        "colab": {
          "base_uri": "https://localhost:8080/"
        },
        "outputId": "7d70fa37-c7d4-4d39-9167-8cc81c6fabb9"
      },
      "execution_count": 29,
      "outputs": [
        {
          "output_type": "execute_result",
          "data": {
            "text/plain": [
              "count    39717.000000\n",
              "mean     11219.443815\n",
              "std       7456.670694\n",
              "min        500.000000\n",
              "25%       5500.000000\n",
              "50%      10000.000000\n",
              "75%      15000.000000\n",
              "max      35000.000000\n",
              "Name: loan_amnt, dtype: float64"
            ]
          },
          "metadata": {},
          "execution_count": 29
        }
      ]
    },
    {
      "cell_type": "markdown",
      "source": [
        "\n",
        "\n",
        "---\n",
        "\n",
        "\n",
        "Check the data for people income who are intrested in loan\n",
        "\n",
        "---\n",
        "\n"
      ],
      "metadata": {
        "id": "eRLHS1AFeq2o"
      }
    },
    {
      "cell_type": "code",
      "source": [
        "sns.boxplot(data.annual_inc)\n",
        "plt.show()"
      ],
      "metadata": {
        "id": "Ibl1yuFAgFnN",
        "colab": {
          "base_uri": "https://localhost:8080/",
          "height": 280
        },
        "outputId": "44437cc2-80a2-4198-a1e4-c7b2ba11cb52"
      },
      "execution_count": 30,
      "outputs": [
        {
          "output_type": "display_data",
          "data": {
            "text/plain": [
              "<Figure size 432x288 with 1 Axes>"
            ],
            "image/png": "[encoded data removed]"
          },
          "metadata": {
            "needs_background": "light"
          }
        }
      ]
    },
    {
      "cell_type": "markdown",
      "source": [
        "\n",
        "\n",
        "---\n",
        "\n",
        "\n",
        "This data has so many outliner . Using qunatile function to remove all data from 90% above\n",
        "\n",
        "\n",
        "---\n",
        "\n"
      ],
      "metadata": {
        "id": "GJ0_Hx5ec30g"
      }
    },
    {
      "cell_type": "code",
      "source": [
        "data = data[data[\"annual_inc\"] < data[\"annual_inc\"].quantile(0.90)]\n",
        "sns.boxplot(data.annual_inc)\n",
        "plt.show()"
      ],
      "metadata": {
        "id": "Wg1fMef7gFpn",
        "colab": {
          "base_uri": "https://localhost:8080/",
          "height": 280
        },
        "outputId": "ebd20ce6-a308-4966-c372-3e6e1e0ffe24"
      },
      "execution_count": 31,
      "outputs": [
        {
          "output_type": "display_data",
          "data": {
            "text/plain": [
              "<Figure size 432x288 with 1 Axes>"
            ],
            "image/png": "[encoded data removed]"
          },
          "metadata": {
            "needs_background": "light"
          }
        }
      ]
    },
    {
      "cell_type": "markdown",
      "source": [
        "\n",
        "\n",
        "---\n",
        "\n",
        "Check how much payment we have as Payments received for total amount funded\n",
        "\n",
        "---\n",
        "\n"
      ],
      "metadata": {
        "id": "RW8gyhqye5zL"
      }
    },
    {
      "cell_type": "code",
      "source": [
        "data = data[data[\"total_pymnt\"] < data[\"total_pymnt\"].quantile(0.90)]\n",
        "sns.boxplot(data.total_pymnt)\n",
        "plt.show()\n"
      ],
      "metadata": {
        "id": "mJd-aNQ3dvj2",
        "colab": {
          "base_uri": "https://localhost:8080/",
          "height": 280
        },
        "outputId": "d4dbd820-8e0f-45d9-b62c-03f98c73e092"
      },
      "execution_count": 32,
      "outputs": [
        {
          "output_type": "display_data",
          "data": {
            "text/plain": [
              "<Figure size 432x288 with 1 Axes>"
            ],
            "image/png": "[encoded data removed]"
          },
          "metadata": {
            "needs_background": "light"
          }
        }
      ]
    },
    {
      "cell_type": "markdown",
      "source": [
        "\n",
        "\n",
        "---\n",
        "\n",
        "\n",
        "Check the data about how many people are defaulters\n",
        "\n",
        "\n",
        "---\n",
        "\n"
      ],
      "metadata": {
        "id": "tzjlbC2B9Sqd"
      }
    },
    {
      "cell_type": "code",
      "source": [
        "sns.countplot(x=\"loan_status\",data = data)\n",
        "plt.show()"
      ],
      "metadata": {
        "id": "a4UAVzsTdvmu",
        "colab": {
          "base_uri": "https://localhost:8080/",
          "height": 280
        },
        "outputId": "f85faae7-181c-4ee6-9364-242aa2fea1a0"
      },
      "execution_count": 33,
      "outputs": [
        {
          "output_type": "display_data",
          "data": {
            "text/plain": [
              "<Figure size 432x288 with 1 Axes>"
            ],
            "image/png": "[encoded data removed]"
          },
          "metadata": {
            "needs_background": "light"
          }
        }
      ]
    },
    {
      "cell_type": "code",
      "source": [
        "sns.distplot(data['loan_amnt'])"
      ],
      "metadata": {
        "colab": {
          "base_uri": "https://localhost:8080/",
          "height": 297
        },
        "id": "lL4bfXLca9vW",
        "outputId": "61378e03-6aa5-4308-daff-9db74ad8f3ec"
      },
      "execution_count": 34,
      "outputs": [
        {
          "output_type": "execute_result",
          "data": {
            "text/plain": [
              "<matplotlib.axes._subplots.AxesSubplot at 0x7fd7caa2ae10>"
            ]
          },
          "metadata": {},
          "execution_count": 34
        },
        {
          "output_type": "display_data",
          "data": {
            "text/plain": [
              "<Figure size 432x288 with 1 Axes>"
            ],
            "image/png": "[encoded data removed]"
          },
          "metadata": {
            "needs_background": "light"
          }
        }
      ]
    },
    {
      "cell_type": "code",
      "source": [
        "print(\"%.2f\" % (data.loc[data['loan_status'] == 'Charged Off'].loan_status.count() * 100/len(data)))"
      ],
      "metadata": {
        "id": "-gxr7bzBOkBS",
        "colab": {
          "base_uri": "https://localhost:8080/"
        },
        "outputId": "71ddffe2-3d48-4256-9149-6e5f02a2fbde"
      },
      "execution_count": 35,
      "outputs": [
        {
          "output_type": "stream",
          "name": "stdout",
          "text": [
            "15.73\n"
          ]
        }
      ]
    },
    {
      "cell_type": "markdown",
      "source": [
        "**Observation: Appriximatily 16% of the loans are Charged Off**"
      ],
      "metadata": {
        "id": "HJ3BzYq6W6mo"
      }
    },
    {
      "cell_type": "code",
      "source": [
        "data.groupby('loan_status').loan_amnt.count().sort_values(ascending=False)"
      ],
      "metadata": {
        "colab": {
          "base_uri": "https://localhost:8080/"
        },
        "id": "7OVZ8wXyVehg",
        "outputId": "e486a813-d5ba-43d5-d1d9-28f3a1b488a2"
      },
      "execution_count": 52,
      "outputs": [
        {
          "output_type": "execute_result",
          "data": {
            "text/plain": [
              "loan_status\n",
              "Fully Paid     26476\n",
              "Charged Off     5061\n",
              "Current          629\n",
              "Name: loan_amnt, dtype: int64"
            ]
          },
          "metadata": {},
          "execution_count": 52
        }
      ]
    },
    {
      "cell_type": "markdown",
      "source": [
        "\n",
        "\n",
        "---\n",
        "\n",
        "\n",
        "Check the purpose of Loan which has many defaulters\n",
        "\n",
        "\n",
        "---\n",
        "\n"
      ],
      "metadata": {
        "id": "LjVfHFIDAiT-"
      }
    },
    {
      "cell_type": "code",
      "source": [
        "plt.figure(figsize=(10,5))\n",
        "sns.countplot(y=\"purpose\",data=data,hue='loan_status')\n",
        "plt.show()"
      ],
      "metadata": {
        "id": "FutcqPC_-L8c",
        "colab": {
          "base_uri": "https://localhost:8080/",
          "height": 334
        },
        "outputId": "c654446b-a262-44b0-dd3e-08ff4c078520"
      },
      "execution_count": 55,
      "outputs": [
        {
          "output_type": "display_data",
          "data": {
            "text/plain": [
              "<Figure size 720x360 with 1 Axes>"
            ],
            "image/png": "[encoded data removed]"
          },
          "metadata": {
            "needs_background": "light"
          }
        }
      ]
    },
    {
      "cell_type": "markdown",
      "source": [
        "**Observation: People are taking more loan to pay other debt**"
      ],
      "metadata": {
        "id": "jxrUXR0tLnji"
      }
    },
    {
      "cell_type": "markdown",
      "source": [
        "\n",
        "\n",
        "---\n",
        "Check for the home ownership vs people has defaulters\n",
        "---\n",
        "\n"
      ],
      "metadata": {
        "id": "JyidFWJuLjZR"
      }
    },
    {
      "cell_type": "code",
      "source": [
        "sns.countplot(y=\"home_ownership\",data=data,hue='loan_status')\n",
        "plt.show()"
      ],
      "metadata": {
        "id": "_W8LzpfBE7-P",
        "colab": {
          "base_uri": "https://localhost:8080/",
          "height": 279
        },
        "outputId": "7475c03a-abe1-4818-a233-ed4537ec5757"
      },
      "execution_count": 38,
      "outputs": [
        {
          "output_type": "display_data",
          "data": {
            "text/plain": [
              "<Figure size 432x288 with 1 Axes>"
            ],
            "image/png": "[encoded data removed]"
          },
          "metadata": {
            "needs_background": "light"
          }
        }
      ]
    },
    {
      "cell_type": "markdown",
      "source": [
        "---\n",
        "Check for the state where we have most defaulters\n",
        "\n",
        "---\n",
        "\n"
      ],
      "metadata": {
        "id": "Lt1IioXuLtWj"
      }
    },
    {
      "cell_type": "code",
      "source": [
        "plt.figure(figsize=(15,15),facecolor='b')\n",
        "sns.countplot(x=\"addr_state\",data=data,hue='loan_status')\n",
        "plt.show()"
      ],
      "metadata": {
        "id": "ztN4cnJTH6pp",
        "colab": {
          "base_uri": "https://localhost:8080/",
          "height": 878
        },
        "outputId": "8153702a-de5c-4d83-9374-e25bfe6894e1"
      },
      "execution_count": 39,
      "outputs": [
        {
          "output_type": "display_data",
          "data": {
            "text/plain": [
              "<Figure size 1080x1080 with 1 Axes>"
            ],
            "image/png": "[encoded data removed]"
          },
          "metadata": {}
        }
      ]
    },
    {
      "cell_type": "markdown",
      "source": [
        "\n",
        "\n",
        "---\n",
        "\n",
        "\n",
        "#Bivariate analysis\n",
        "\n",
        "\n",
        "---\n",
        "\n"
      ],
      "metadata": {
        "id": "GZTARhEN9451"
      }
    },
    {
      "cell_type": "code",
      "source": [
        "# function to add value labels\n",
        "def addLabels(ax, d=None):\n",
        "  plt.margins(0.2, 0.2)\n",
        "  rects = ax.patches\n",
        "  i = 0\n",
        "  locs, labels = plt.xticks() \n",
        "  counts = {}\n",
        "  if not d is None:\n",
        "      for key, value in d.items():\n",
        "          counts[str(key)] = value\n",
        "\n",
        "  for rect in rects:\n",
        "        y_value = rect.get_height()\n",
        "        x_value = rect.get_x() + rect.get_width() / 2\n",
        "\n",
        "        space = 5\n",
        "        va = 'bottom'\n",
        "\n",
        "        if y_value < 0:\n",
        "            # Invert space to place label below\n",
        "            space *= -1\n",
        "            # Vertically align label at top\n",
        "            va = 'top'\n",
        "\n",
        "        if d is None:\n",
        "            label = \"{:.1f}%\".format(y_value)\n",
        "        else:\n",
        "            try:\n",
        "                label = \"{:.1f}%\".format(y_value) + \"\\nof \" + str(counts[str(labels[i].get_text())])\n",
        "            except:\n",
        "                label = \"{:.1f}%\".format(y_value)\n",
        "        i = i+1\n",
        "\n",
        "        plt.annotate(\n",
        "            label,                      \n",
        "            (x_value, y_value),         \n",
        "            xytext=(0, space),          \n",
        "            textcoords=\"offset points\", \n",
        "            ha='center',\n",
        "            va = va)                \n",
        "                                        \n"
      ],
      "metadata": {
        "id": "ZygVdS-b3ek5"
      },
      "execution_count": 40,
      "outputs": []
    },
    {
      "cell_type": "code",
      "source": [
        "# Remove curent loan type from data set since we don't have any impact on our use case\n",
        "df_loan = data[data['loan_status'].isin(['Fully Paid','Charged Off'])]"
      ],
      "metadata": {
        "id": "CDnqSvZG-jAa"
      },
      "execution_count": 41,
      "outputs": []
    },
    {
      "cell_type": "code",
      "source": [
        "plt.figure(figsize=(10, 5))\n",
        "axis = (df_loan.groupby('loan_status').total_pymnt.sum() * 100 / df_loan.groupby('loan_status').loan_amnt.sum()).plot.bar()\n",
        "axis.set_xlabel('Loan Status', fontsize=16)\n",
        "axis.set_ylabel('% loan recovered', fontsize=16)\n",
        "addLabels(axis)"
      ],
      "metadata": {
        "id": "6eGQgoQPdvpP",
        "colab": {
          "base_uri": "https://localhost:8080/",
          "height": 389
        },
        "outputId": "1637bd61-047b-463e-97be-866425ee4ae9"
      },
      "execution_count": 57,
      "outputs": [
        {
          "output_type": "display_data",
          "data": {
            "text/plain": [
              "<Figure size 720x360 with 1 Axes>"
            ],
            "image/png": "[encoded data removed]"
          },
          "metadata": {
            "needs_background": "light"
          }
        }
      ]
    },
    {
      "cell_type": "markdown",
      "source": [
        "**Observation: 52 % Loan amount is recovered from defaulters**"
      ],
      "metadata": {
        "id": "zDJc5IKT9Yjx"
      }
    },
    {
      "cell_type": "code",
      "source": [
        "plt.figure(figsize=(15,7))\n",
        "sns.barplot(x='term_in_months', y='loan_amnt', hue=\"loan_status\", data = df_loan)\n",
        "plt.show()"
      ],
      "metadata": {
        "id": "i7j83vVOdvr0",
        "colab": {
          "base_uri": "https://localhost:8080/",
          "height": 443
        },
        "outputId": "bfd9e155-cb5e-4e9c-999a-e7d54edc6f58"
      },
      "execution_count": 43,
      "outputs": [
        {
          "output_type": "display_data",
          "data": {
            "text/plain": [
              "<Figure size 1080x504 with 1 Axes>"
            ],
            "image/png": "[encoded data removed]"
          },
          "metadata": {
            "needs_background": "light"
          }
        }
      ]
    },
    {
      "cell_type": "markdown",
      "source": [
        "**Observation: \n",
        "As per the analysis, Higher the term and loan amount, higher Charged off's**"
      ],
      "metadata": {
        "id": "mg1enK7htp4E"
      }
    },
    {
      "cell_type": "code",
      "source": [
        "plt.figure(figsize=(20,5))\n",
        "sns.barplot(x='addr_state', y='loan_amnt', hue='loan_status',data = df_loan, estimator=np.mean)\n",
        "plt.show()"
      ],
      "metadata": {
        "id": "WX3MpEqCdvuM",
        "colab": {
          "base_uri": "https://localhost:8080/",
          "height": 335
        },
        "outputId": "31c436dd-232e-4938-8fee-2cbbd401d221"
      },
      "execution_count": 44,
      "outputs": [
        {
          "output_type": "display_data",
          "data": {
            "text/plain": [
              "<Figure size 1440x360 with 1 Axes>"
            ],
            "image/png": "[encoded data removed]"
          },
          "metadata": {
            "needs_background": "light"
          }
        }
      ]
    },
    {
      "cell_type": "markdown",
      "source": [
        "**Observation : State Ak has Higher loan amount that is charged off**"
      ],
      "metadata": {
        "id": "GoCg9UgYu04e"
      }
    },
    {
      "cell_type": "markdown",
      "source": [
        "\n",
        "\n",
        "---\n",
        "\n",
        "\n",
        "#Bivariate analysis with Year and Intrest Rate\n",
        "\n",
        "\n",
        "---\n",
        "\n"
      ],
      "metadata": {
        "id": "_LNAnJ0C005t"
      }
    },
    {
      "cell_type": "code",
      "source": [
        "plt.figure(figsize=(14,8))\n",
        "axis = sns.boxplot(y='int_rate', x='year', data = df_loan)\n",
        "axis.set_xlabel('Issued Year')\n",
        "axis.set_ylabel('Inrest Rate')\n",
        "addLabels(axis)\n",
        "plt.show()"
      ],
      "metadata": {
        "id": "-pPuMHbJdvxK",
        "colab": {
          "base_uri": "https://localhost:8080/",
          "height": 497
        },
        "outputId": "b1d1c951-6d65-47d1-ff60-20a862f6ecf3"
      },
      "execution_count": 56,
      "outputs": [
        {
          "output_type": "display_data",
          "data": {
            "text/plain": [
              "<Figure size 1008x576 with 1 Axes>"
            ],
            "image/png": "[encoded data removed]"
          },
          "metadata": {
            "needs_background": "light"
          }
        }
      ]
    },
    {
      "cell_type": "markdown",
      "source": [
        "**Observation: Intrest rate is increased with each year**"
      ],
      "metadata": {
        "id": "NiPim4pW2cQT"
      }
    },
    {
      "cell_type": "code",
      "source": [
        "axis = sns.boxplot(y='int_rate', x='loan_amnt_cats', data = df_loan)\n",
        "axis.set_xlabel('Issued Year', fontsize=12)\n",
        "axis.set_ylabel('Inrest Rate', fontsize=12)\n",
        "addLabels(axis)\n",
        "plt.show()"
      ],
      "metadata": {
        "colab": {
          "base_uri": "https://localhost:8080/",
          "height": 282
        },
        "id": "nrYiBtlS0w2n",
        "outputId": "1e1d9569-092a-4a0f-8a86-51c40705f7c6"
      },
      "execution_count": 59,
      "outputs": [
        {
          "output_type": "display_data",
          "data": {
            "text/plain": [
              "<Figure size 432x288 with 1 Axes>"
            ],
            "image/png": "[encoded data removed]"
          },
          "metadata": {
            "needs_background": "light"
          }
        }
      ]
    },
    {
      "cell_type": "markdown",
      "source": [
        "**Observation: Intrest rate is also increased when Loan amount increase**"
      ],
      "metadata": {
        "id": "vICejjma7aIu"
      }
    },
    {
      "cell_type": "code",
      "source": [
        "loan_amnt_corr = df_loan.corr()\n",
        "loan_amnt_corr['loan_amnt']"
      ],
      "metadata": {
        "id": "RbrrxSVUdv1M",
        "colab": {
          "base_uri": "https://localhost:8080/"
        },
        "outputId": "3a5668d0-1242-498f-b9a6-613831b2f971"
      },
      "execution_count": 62,
      "outputs": [
        {
          "output_type": "execute_result",
          "data": {
            "text/plain": [
              "id                            0.064174\n",
              "member_id                     0.063794\n",
              "loan_amnt                     1.000000\n",
              "funded_amnt                   0.973090\n",
              "funded_amnt_inv               0.908235\n",
              "term_in_months                0.293144\n",
              "int_rate                      0.188432\n",
              "installment                   0.915546\n",
              "annual_inc                    0.312643\n",
              "dti                           0.089929\n",
              "delinq_2yrs                  -0.039801\n",
              "inq_last_6mths                0.010613\n",
              "open_acc                      0.157057\n",
              "pub_rec                      -0.029173\n",
              "revol_bal                     0.258542\n",
              "revol_util                    0.054976\n",
              "total_acc                     0.205611\n",
              "out_prncp                          NaN\n",
              "out_prncp_inv                      NaN\n",
              "total_pymnt                   0.773193\n",
              "total_pymnt_inv               0.721305\n",
              "total_rec_prncp               0.698800\n",
              "total_rec_int                 0.650298\n",
              "total_rec_late_fee            0.036464\n",
              "recoveries                    0.190767\n",
              "collection_recovery_fee       0.090177\n",
              "last_pymnt_amnt               0.335869\n",
              "collections_12_mths_ex_med         NaN\n",
              "policy_code                        NaN\n",
              "year                          0.053792\n",
              "month                         0.040676\n",
              "Name: loan_amnt, dtype: float64"
            ]
          },
          "metadata": {},
          "execution_count": 62
        }
      ]
    },
    {
      "cell_type": "code",
      "source": [
        "plt.figure(figsize=(9,9))\n",
        "corr_var= ['loan_amnt', 'int_rate', 'installment','emp_length', 'annual_inc','dti',\n",
        "       'inq_last_6mths', 'open_acc', 'total_acc', 'last_pymnt_d', 'last_pymnt_amnt', 'last_credit_pull_d']\n",
        "corr = df_loan[corr_var].corr()\n",
        "sns.heatmap(corr, annot=True, center=0.5 , cbar=False)\n",
        "plt.show()"
      ],
      "metadata": {
        "id": "iw9dpnYJdv9V",
        "colab": {
          "base_uri": "https://localhost:8080/",
          "height": 613
        },
        "outputId": "3c2ae188-0bbb-4679-ff67-fcb411a120a6"
      },
      "execution_count": 67,
      "outputs": [
        {
          "output_type": "display_data",
          "data": {
            "text/plain": [
              "<Figure size 648x648 with 1 Axes>"
            ],
            "image/png": "[encoded data removed]"
          },
          "metadata": {
            "needs_background": "light"
          }
        }
      ]
    },
    {
      "cell_type": "markdown",
      "source": [
        "\n",
        "**Observation: \n",
        "\n",
        "---\n",
        "\n",
        "\n",
        "1.  Loan amount and installment has high correlation\n",
        "\n",
        "2.  Annual Income and int_rate has negative correlation **\n",
        "\n",
        "\n",
        "---\n",
        "\n",
        "\n",
        "\n"
      ],
      "metadata": {
        "id": "E9AN-JWR-wZv"
      }
    },
    {
      "cell_type": "code",
      "source": [],
      "metadata": {
        "id": "z4-_RrPuIYnb"
      },
      "execution_count": 48,
      "outputs": []
    }
  ]
}